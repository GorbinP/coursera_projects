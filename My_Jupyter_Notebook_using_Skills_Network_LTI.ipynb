{
 "cells": [
  {
   "cell_type": "markdown",
   "metadata": {},
   "source": [
    "<center>\n",
    "    <img src=\"https://cf-courses-data.s3.us.cloud-object-storage.appdomain.cloud/IBMDeveloperSkillsNetwork-DS0105EN-SkillsNetwork/labs/Module2/images/SN_web_lightmode.png\" width=\"300\" alt=\"cognitiveclass.ai logo\">\n",
    "</center>\n"
   ]
  },
  {
   "cell_type": "markdown",
   "metadata": {},
   "source": [
    "#### Add your code below following the instructions given in the course\n"
   ]
  },
  {
   "cell_type": "markdown",
   "metadata": {},
   "source": [
    "<h1>My Jupyter Notebook on IBM Watson Studio</h1>"
   ]
  },
  {
   "cell_type": "markdown",
   "metadata": {},
   "source": [
    "**Quana**\n",
    "\n",
    "Data Scientist"
   ]
  },
  {
   "cell_type": "markdown",
   "metadata": {},
   "source": [
    "*I am interested in data science because, I have a burning curiosity for uncovering insights from complex data sets, and an ability to communicate insights clearly, with a willingness to continuously learn and adapt to new technologies and methodologies. In addition, I have a passion for programming and a deep interest in the field of data science.*"
   ]
  },
  {
   "cell_type": "markdown",
   "metadata": {},
   "source": [
    "explaining cell 5:\n",
    "\n",
    "In the realm of arithmetic, the operation of addition can be defined as the act of combining two or more quantities to form a single aggregate quantity. When adding two quantities, such as the integer values of 1 and 1, it is necessary to apply the fundamental rule of addition, which states that the sum of two numbers is equal to the result obtained when the two numbers are combined.\n",
    "\n",
    "To perform the operation of adding 1 + 1, one would begin by identifying the two quantities to be added, namely the number 1 and the number 1. These quantities can be represented mathematically as the numerals \"1\" and \"1,\" respectively. To combine these quantities, one would apply the concept of place value, which holds that each digit in a number represents a different power of ten, with the rightmost digit representing the units place, the next digit to the left representing the tens place, and so on.\n",
    "\n",
    "In the case of adding the numbers 1 and 1, one would begin by aligning the two quantities such that the units place of each number is aligned with one another. The value of the units place can then be computed by applying the rule of addition, which in this case yields the result of 2. Thus, the addition of 1 + 1 can be expressed mathematically as:\n"
   ]
  },
  {
   "cell_type": "code",
   "execution_count": 2,
   "metadata": {},
   "outputs": [
    {
     "data": {
      "text/plain": [
       "2"
      ]
     },
     "execution_count": 2,
     "metadata": {},
     "output_type": "execute_result"
    }
   ],
   "source": [
    "1 + 1"
   ]
  },
  {
   "cell_type": "markdown",
   "metadata": {},
   "source": [
    "Therefore, the act of adding the quantities of 1 and 1 has resulted in an aggregate quantity of 2, as dictated by the principles of arithmetic and mathematics.\n",
    "\n",
    "\n",
    "---\n",
    "\n",
    "\n",
    "**Horizontal Rule**\n",
    "\n",
    "---\n",
    "\n",
    "or\n",
    "\n",
    "***\n",
    "\n",
    "or\n",
    "\n",
    "___\n",
    "\n",
    "**Bulleted List:**\n",
    "* Item 1\n",
    "* Item 2\n",
    "* Item 3\n",
    "\n",
    "**Numbered List:**\n",
    "1. First item\n",
    "2. Second item\n",
    "3. Third item\n",
    "\n",
    "**Tables:**\n",
    "| Column 1 | Column 2 |\n",
    "|----------|----------|\n",
    "| Item 1   | Item 2   |\n",
    "| Item 3   | Item 4   |\n",
    "\n",
    "\n",
    "**Hyperlinks:**\n",
    "\n",
    "[http://www.example.com/](http://www.example.com/)\n",
    "\n",
    "\n",
    "**Images:**\n",
    "\n",
    "![Good old rick will help here for sure](https://i.pinimg.com/originals/75/98/d1/7598d103a735d5568964e4967e42823d.gif)\n",
    "\n",
    "\n",
    "**Syntax Highlighting:**\n",
    "```python\n",
    "    print(\"Hello, World!\")\n",
    "```\n",
    "\n",
    "**Blocked Quotes:**\n",
    "\n",
    "> This is blocked text\n",
    "\n",
    "\n",
    "**Strike Through:**\n",
    "\n",
    "~~This text will be struck through.~~\n",
    "\n",
    "\n"
   ]
  },
  {
   "cell_type": "code",
   "execution_count": null,
   "metadata": {},
   "outputs": [],
   "source": []
  }
 ],
 "metadata": {
  "kernelspec": {
   "display_name": "Python",
   "language": "python",
   "name": "conda-env-python-py"
  },
  "language_info": {
   "codemirror_mode": {
    "name": "ipython",
    "version": 3
   },
   "file_extension": ".py",
   "mimetype": "text/x-python",
   "name": "python",
   "nbconvert_exporter": "python",
   "pygments_lexer": "ipython3",
   "version": "3.7.12"
  }
 },
 "nbformat": 4,
 "nbformat_minor": 4
}
