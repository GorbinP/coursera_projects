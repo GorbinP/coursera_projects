{
 "cells": [
  {
   "cell_type": "markdown",
   "id": "11cdce0d-d5e2-4278-b21a-16c2b18e8d23",
   "metadata": {},
   "source": [
    "<center>\n",
    "    <img src=\"https://cf-courses-data.s3.us.cloud-object-storage.appdomain.cloud/IBMDeveloperSkillsNetwork-DS0105EN-SkillsNetwork/labs/Module2/images/SN_web_lightmode.png\" width=\"300\" alt=\"cognitiveclass.ai logo\">\n",
    "</center>\n"
   ]
  },
  {
   "cell_type": "markdown",
   "id": "f085695c-23fe-4708-a12c-e054b4393a98",
   "metadata": {},
   "source": [
    "**Exercise 2: Create markdown cell with title of the notebook**\n",
    "\n",
    "<h1>Data Science Tools and Ecosystem</h1>\n",
    "\n",
    "---"
   ]
  },
  {
   "cell_type": "markdown",
   "id": "2b956dc0-cfab-4e7f-b611-b70ce5831cdd",
   "metadata": {},
   "source": [
    "**Exercise 3 - Create a markdown cell for an introduction**\n",
    "\n",
    "In this notebook, Data Science Tools and Ecosystem are summarized.\n",
    "\n",
    "---"
   ]
  },
  {
   "cell_type": "markdown",
   "id": "7d16aaa6-410a-4fe7-ba0c-ced93c6fd95a",
   "metadata": {},
   "source": [
    "**Exercise 4 - Create a markdown cell to list data science languages**\n",
    "\n",
    "Some of the popular languages that Data Scientists use are:\n",
    "\n",
    "1. Python\n",
    "2. R\n",
    "3. SQL\n",
    "\n",
    "*(1-3 Are the most common)*\n",
    "\n",
    "4. Scala\n",
    "5. Java\n",
    "6. C++\n",
    "7. Julia\n",
    "8. JavaScript\n",
    "9. PHP\n",
    "10. Go\n",
    "11. Ruby\n",
    "\n",
    "*(4-11 all have their own unique use cases)*\n",
    "\n",
    "---"
   ]
  },
  {
   "cell_type": "markdown",
   "id": "bfc065eb-0225-491b-ba89-63b0ae308442",
   "metadata": {},
   "source": [
    "**Exercise 5 - Create a markdown cell to list data science libraries**\n",
    "\n",
    "Some of the commonly used libraries used by Data Scientists include:\n",
    "\n",
    "Python\n",
    "1. NumPy\n",
    "2. Pandas\n",
    "3. Matplotlibbar charts.\n",
    "4. Seaborn\n",
    "5. Scikit-learn\n",
    "6. TensorFlow\n",
    "7. PyTorch\n",
    "\n",
    "R\n",
    "1. dplyr\n",
    "2. ggplot2\n",
    "3. tidyr\n",
    "4. caret\n",
    "5. Shiny\n",
    "6. glmnet\n",
    "\n",
    "---"
   ]
  },
  {
   "cell_type": "markdown",
   "id": "32b363fd-c763-4d38-aa6b-baa081489127",
   "metadata": {},
   "source": [
    "**Exercise 6 - Create a markdown cell with a table of Data Science tools**\n",
    "\n",
    "\n",
    "| Data Science Tools |\n",
    "|----------|\n",
    "| Jupyter Notebooks  |\n",
    "| Jupyter Lab  |\n",
    "| R Studio   |\n",
    "| Apache Zeppelin   |\n",
    "\n",
    "---"
   ]
  },
  {
   "cell_type": "markdown",
   "id": "6621fe9f-9a47-486c-a890-223de88593f5",
   "metadata": {},
   "source": [
    "**Exercise 7 - Create a markdown cell introducing arithmetic expression examples**\n",
    "\n",
    "<h3>Below are a few examples of evaluating arithmetic expressions in Python</h3>\n"
   ]
  },
  {
   "cell_type": "code",
   "execution_count": 12,
   "id": "77781c14-2af1-4864-aa92-8676aeea82bf",
   "metadata": {},
   "outputs": [
    {
     "data": {
      "text/plain": [
       "17"
      ]
     },
     "execution_count": 12,
     "metadata": {},
     "output_type": "execute_result"
    }
   ],
   "source": [
    "''' In this simple arithmetic expression we perform arithmetic operations to manipulate numerical quantities. \n",
    "In this particular equation, the operation of multiplication is applied to the numbers 3 and 4, resulting in a product of 12. \n",
    "This product of 12 is then subjected to the operation of addition with the number 5, resulting in a sum of 17.'''\n",
    "\n",
    "(3*4)+5"
   ]
  },
  {
   "cell_type": "markdown",
   "id": "467d4656-b40e-4743-a58e-ba4373a787c4",
   "metadata": {},
   "source": [
    "---\n",
    "\n",
    "**Exercise 9 - Create a code cell to convert minutes to hours**\n"
   ]
  },
  {
   "cell_type": "code",
   "execution_count": 30,
   "id": "f745611a-ab4d-4cb7-901d-04173165ab73",
   "metadata": {},
   "outputs": [
    {
     "name": "stdout",
     "output_type": "stream",
     "text": [
      "200 minutes is equal to 3 hours and 20 minutes, or 3:20 hours\n"
     ]
    }
   ],
   "source": [
    "'''This will convert 200 minutes to hours, we use the integer division operator // to compute the number of whole hours in 200 minutes, \n",
    "and the modulus operator % to compute the remaining minutes. Then we make it look prety for the humans that will be reading this.'''\n",
    "\n",
    "minutes = 200\n",
    "hours = minutes // 60\n",
    "remaining_minutes = minutes % 60\n",
    "print(\"200 minutes is equal to\", hours, \"hours and\", remaining_minutes, \"minutes, or\" f\"{hours:2d}:{remaining_minutes:02d}\", \"hours\")\n"
   ]
  },
  {
   "cell_type": "markdown",
   "id": "00bc69b2-6947-4569-ba78-2a475ff6f90b",
   "metadata": {},
   "source": [
    "---\n",
    "**Exercise 10 - Insert a markdown cell to list Objectives**\n",
    "\n",
    "**Objectives:**\n",
    "\n",
    "- Create markdown cell with title of the notebook\n",
    "- Create a markdown cell to list data science languages\n",
    "- Create a markdown cell to list data science libraries\n",
    "- Create a markdown cell with a table of Data Science tools\n",
    "- Create a code cell to convert minutes to hours\n"
   ]
  },
  {
   "cell_type": "markdown",
   "id": "0f7a336d-0bf0-4886-a149-2d827c543f05",
   "metadata": {},
   "source": [
    "---\n",
    "**Exercise 11 - Create a markdown cell to indicate the Author's name**\n",
    "\n",
    "<h2>Author:</h2>\n",
    "\n",
    "Quana\n"
   ]
  }
 ],
 "metadata": {
  "kernelspec": {
   "display_name": "Python",
   "language": "python",
   "name": "conda-env-python-py"
  },
  "language_info": {
   "codemirror_mode": {
    "name": "ipython",
    "version": 3
   },
   "file_extension": ".py",
   "mimetype": "text/x-python",
   "name": "python",
   "nbconvert_exporter": "python",
   "pygments_lexer": "ipython3",
   "version": "3.7.12"
  }
 },
 "nbformat": 4,
 "nbformat_minor": 5
}
